{
 "cells": [
  {
   "cell_type": "code",
   "execution_count": 1,
   "id": "b0bc69c4",
   "metadata": {},
   "outputs": [],
   "source": [
    "import pandas as pd\n",
    "import matplotlib.pyplot as plt\n",
    "import numpy as np\n",
    "import warnings\n",
    "warnings.filterwarnings('ignore')"
   ]
  },
  {
   "cell_type": "code",
   "execution_count": 2,
   "id": "dc9e17ec",
   "metadata": {},
   "outputs": [
    {
     "data": {
      "text/html": [
       "<div>\n",
       "<style scoped>\n",
       "    .dataframe tbody tr th:only-of-type {\n",
       "        vertical-align: middle;\n",
       "    }\n",
       "\n",
       "    .dataframe tbody tr th {\n",
       "        vertical-align: top;\n",
       "    }\n",
       "\n",
       "    .dataframe thead th {\n",
       "        text-align: right;\n",
       "    }\n",
       "</style>\n",
       "<table border=\"1\" class=\"dataframe\">\n",
       "  <thead>\n",
       "    <tr style=\"text-align: right;\">\n",
       "      <th></th>\n",
       "      <th>Address</th>\n",
       "      <th>City</th>\n",
       "      <th>Price</th>\n",
       "      <th>Bedroom</th>\n",
       "      <th>Bathroom</th>\n",
       "      <th>Floors</th>\n",
       "      <th>Parking</th>\n",
       "      <th>Face</th>\n",
       "      <th>Year</th>\n",
       "      <th>Area</th>\n",
       "      <th>Road Width</th>\n",
       "      <th>Road Type</th>\n",
       "      <th>Build Area</th>\n",
       "      <th>Amenities</th>\n",
       "    </tr>\n",
       "  </thead>\n",
       "  <tbody>\n",
       "    <tr>\n",
       "      <th>0</th>\n",
       "      <td>Budhanilkantha</td>\n",
       "      <td>Kathmandu</td>\n",
       "      <td>90000000</td>\n",
       "      <td>6</td>\n",
       "      <td>3</td>\n",
       "      <td>2.0</td>\n",
       "      <td>10</td>\n",
       "      <td>West</td>\n",
       "      <td>2073.0</td>\n",
       "      <td>5476.000</td>\n",
       "      <td>20.0</td>\n",
       "      <td>Blacktopped</td>\n",
       "      <td>98568.000</td>\n",
       "      <td>16</td>\n",
       "    </tr>\n",
       "    <tr>\n",
       "      <th>1</th>\n",
       "      <td>Budhanilkantha</td>\n",
       "      <td>Kathmandu</td>\n",
       "      <td>80000000</td>\n",
       "      <td>5</td>\n",
       "      <td>3</td>\n",
       "      <td>2.0</td>\n",
       "      <td>9</td>\n",
       "      <td>East</td>\n",
       "      <td>2073.0</td>\n",
       "      <td>7187.250</td>\n",
       "      <td>20.0</td>\n",
       "      <td>Blacktopped</td>\n",
       "      <td>7187.250</td>\n",
       "      <td>15</td>\n",
       "    </tr>\n",
       "    <tr>\n",
       "      <th>2</th>\n",
       "      <td>Dhapasi</td>\n",
       "      <td>Kathmandu</td>\n",
       "      <td>70000000</td>\n",
       "      <td>5</td>\n",
       "      <td>3</td>\n",
       "      <td>2.0</td>\n",
       "      <td>12</td>\n",
       "      <td>East</td>\n",
       "      <td>2071.0</td>\n",
       "      <td>5818.250</td>\n",
       "      <td>20.0</td>\n",
       "      <td>Blacktopped</td>\n",
       "      <td>55102.250</td>\n",
       "      <td>16</td>\n",
       "    </tr>\n",
       "    <tr>\n",
       "      <th>3</th>\n",
       "      <td>Budhanilkantha</td>\n",
       "      <td>Kathmandu</td>\n",
       "      <td>50000000</td>\n",
       "      <td>5</td>\n",
       "      <td>4</td>\n",
       "      <td>2.0</td>\n",
       "      <td>9</td>\n",
       "      <td>East</td>\n",
       "      <td>2073.0</td>\n",
       "      <td>20963.000</td>\n",
       "      <td>20.0</td>\n",
       "      <td>Blacktopped</td>\n",
       "      <td>20963.000</td>\n",
       "      <td>16</td>\n",
       "    </tr>\n",
       "    <tr>\n",
       "      <th>4</th>\n",
       "      <td>Other</td>\n",
       "      <td>Kathmandu</td>\n",
       "      <td>32500000</td>\n",
       "      <td>6</td>\n",
       "      <td>4</td>\n",
       "      <td>2.5</td>\n",
       "      <td>1</td>\n",
       "      <td>South East</td>\n",
       "      <td>2065.0</td>\n",
       "      <td>1369.000</td>\n",
       "      <td>12.0</td>\n",
       "      <td>Concrete</td>\n",
       "      <td>819346.500</td>\n",
       "      <td>13</td>\n",
       "    </tr>\n",
       "    <tr>\n",
       "      <th>...</th>\n",
       "      <td>...</td>\n",
       "      <td>...</td>\n",
       "      <td>...</td>\n",
       "      <td>...</td>\n",
       "      <td>...</td>\n",
       "      <td>...</td>\n",
       "      <td>...</td>\n",
       "      <td>...</td>\n",
       "      <td>...</td>\n",
       "      <td>...</td>\n",
       "      <td>...</td>\n",
       "      <td>...</td>\n",
       "      <td>...</td>\n",
       "      <td>...</td>\n",
       "    </tr>\n",
       "    <tr>\n",
       "      <th>1602</th>\n",
       "      <td>Other</td>\n",
       "      <td>Others</td>\n",
       "      <td>6400000</td>\n",
       "      <td>3</td>\n",
       "      <td>1</td>\n",
       "      <td>1.0</td>\n",
       "      <td>0</td>\n",
       "      <td>North</td>\n",
       "      <td>2074.0</td>\n",
       "      <td>133.350</td>\n",
       "      <td>15.0</td>\n",
       "      <td>Soil Stabilized</td>\n",
       "      <td>133.350</td>\n",
       "      <td>4</td>\n",
       "    </tr>\n",
       "    <tr>\n",
       "      <th>1603</th>\n",
       "      <td>Other</td>\n",
       "      <td>Others</td>\n",
       "      <td>2200000</td>\n",
       "      <td>0</td>\n",
       "      <td>0</td>\n",
       "      <td>3.0</td>\n",
       "      <td>0</td>\n",
       "      <td>North</td>\n",
       "      <td>2074.0</td>\n",
       "      <td>23137.000</td>\n",
       "      <td>20.0</td>\n",
       "      <td>Gravelled</td>\n",
       "      <td>23137.000</td>\n",
       "      <td>0</td>\n",
       "    </tr>\n",
       "    <tr>\n",
       "      <th>1604</th>\n",
       "      <td>Other</td>\n",
       "      <td>Others</td>\n",
       "      <td>25000000</td>\n",
       "      <td>10</td>\n",
       "      <td>4</td>\n",
       "      <td>3.0</td>\n",
       "      <td>0</td>\n",
       "      <td>East</td>\n",
       "      <td>2074.0</td>\n",
       "      <td>155.575</td>\n",
       "      <td>20.0</td>\n",
       "      <td>Gravelled</td>\n",
       "      <td>155.575</td>\n",
       "      <td>6</td>\n",
       "    </tr>\n",
       "    <tr>\n",
       "      <th>1605</th>\n",
       "      <td>Other</td>\n",
       "      <td>Others</td>\n",
       "      <td>10000000</td>\n",
       "      <td>0</td>\n",
       "      <td>0</td>\n",
       "      <td>3.0</td>\n",
       "      <td>0</td>\n",
       "      <td>East</td>\n",
       "      <td>2074.0</td>\n",
       "      <td>21305.250</td>\n",
       "      <td>25.0</td>\n",
       "      <td>None</td>\n",
       "      <td>21305.250</td>\n",
       "      <td>0</td>\n",
       "    </tr>\n",
       "    <tr>\n",
       "      <th>1606</th>\n",
       "      <td>Other</td>\n",
       "      <td>Others</td>\n",
       "      <td>350000</td>\n",
       "      <td>0</td>\n",
       "      <td>0</td>\n",
       "      <td>3.0</td>\n",
       "      <td>0</td>\n",
       "      <td>North</td>\n",
       "      <td>2074.0</td>\n",
       "      <td>5476.000</td>\n",
       "      <td>16.0</td>\n",
       "      <td>None</td>\n",
       "      <td>5476.000</td>\n",
       "      <td>0</td>\n",
       "    </tr>\n",
       "  </tbody>\n",
       "</table>\n",
       "<p>1607 rows × 14 columns</p>\n",
       "</div>"
      ],
      "text/plain": [
       "             Address       City     Price  Bedroom  Bathroom  Floors  Parking  \\\n",
       "0     Budhanilkantha  Kathmandu  90000000        6         3     2.0       10   \n",
       "1     Budhanilkantha  Kathmandu  80000000        5         3     2.0        9   \n",
       "2            Dhapasi  Kathmandu  70000000        5         3     2.0       12   \n",
       "3     Budhanilkantha  Kathmandu  50000000        5         4     2.0        9   \n",
       "4              Other  Kathmandu  32500000        6         4     2.5        1   \n",
       "...              ...        ...       ...      ...       ...     ...      ...   \n",
       "1602           Other     Others   6400000        3         1     1.0        0   \n",
       "1603           Other     Others   2200000        0         0     3.0        0   \n",
       "1604           Other     Others  25000000       10         4     3.0        0   \n",
       "1605           Other     Others  10000000        0         0     3.0        0   \n",
       "1606           Other     Others    350000        0         0     3.0        0   \n",
       "\n",
       "            Face    Year       Area  Road Width         Road Type  Build Area  \\\n",
       "0           West  2073.0   5476.000        20.0       Blacktopped   98568.000   \n",
       "1           East  2073.0   7187.250        20.0       Blacktopped    7187.250   \n",
       "2           East  2071.0   5818.250        20.0       Blacktopped   55102.250   \n",
       "3           East  2073.0  20963.000        20.0       Blacktopped   20963.000   \n",
       "4     South East  2065.0   1369.000        12.0          Concrete  819346.500   \n",
       "...          ...     ...        ...         ...               ...         ...   \n",
       "1602       North  2074.0    133.350        15.0   Soil Stabilized     133.350   \n",
       "1603       North  2074.0  23137.000        20.0         Gravelled   23137.000   \n",
       "1604        East  2074.0    155.575        20.0         Gravelled     155.575   \n",
       "1605        East  2074.0  21305.250        25.0              None   21305.250   \n",
       "1606       North  2074.0   5476.000        16.0              None    5476.000   \n",
       "\n",
       "      Amenities  \n",
       "0            16  \n",
       "1            15  \n",
       "2            16  \n",
       "3            16  \n",
       "4            13  \n",
       "...         ...  \n",
       "1602          4  \n",
       "1603          0  \n",
       "1604          6  \n",
       "1605          0  \n",
       "1606          0  \n",
       "\n",
       "[1607 rows x 14 columns]"
      ]
     },
     "execution_count": 2,
     "metadata": {},
     "output_type": "execute_result"
    }
   ],
   "source": [
    "df= pd.read_csv('new_cat_processed_data.csv')\n",
    "df"
   ]
  },
  {
   "cell_type": "code",
   "execution_count": 3,
   "id": "2af99461",
   "metadata": {},
   "outputs": [
    {
     "data": {
      "text/plain": [
       "count    1.607000e+03\n",
       "mean     1.871270e+07\n",
       "std      1.839494e+07\n",
       "min      8.000000e+04\n",
       "25%      2.850000e+06\n",
       "50%      1.500000e+07\n",
       "75%      2.850000e+07\n",
       "max      9.600000e+07\n",
       "Name: Price, dtype: float64"
      ]
     },
     "execution_count": 3,
     "metadata": {},
     "output_type": "execute_result"
    }
   ],
   "source": [
    "df.Price.describe()"
   ]
  },
  {
   "cell_type": "code",
   "execution_count": 4,
   "id": "c161d951",
   "metadata": {},
   "outputs": [
    {
     "data": {
      "text/plain": [
       "15000000.0"
      ]
     },
     "execution_count": 4,
     "metadata": {},
     "output_type": "execute_result"
    }
   ],
   "source": [
    "df.Price.median()"
   ]
  },
  {
   "cell_type": "code",
   "execution_count": 5,
   "id": "3468630f",
   "metadata": {},
   "outputs": [
    {
     "data": {
      "text/plain": [
       "Index(['Address', 'City', 'Price', 'Bedroom', 'Bathroom', 'Floors', 'Parking',\n",
       "       'Face', 'Year', 'Area', 'Road Width', 'Road Type', 'Build Area',\n",
       "       'Amenities'],\n",
       "      dtype='object')"
      ]
     },
     "execution_count": 5,
     "metadata": {},
     "output_type": "execute_result"
    }
   ],
   "source": [
    "df.columns"
   ]
  },
  {
   "cell_type": "code",
   "execution_count": 6,
   "id": "98497f8b",
   "metadata": {},
   "outputs": [
    {
     "data": {
      "text/plain": [
       "array(['Budhanilkantha', 'Dhapasi', 'Other', 'Sitapaila', 'Kapan',\n",
       "       'Hattigauda', 'Tokha', 'Baluwatar', 'Jorpati', 'Golfutar',\n",
       "       'Chabahil', 'Bhangal', 'Samakhusi', 'Basundhara', 'Imadol',\n",
       "       'Bhaisepati'], dtype=object)"
      ]
     },
     "execution_count": 6,
     "metadata": {},
     "output_type": "execute_result"
    }
   ],
   "source": [
    "df.Address.unique()"
   ]
  },
  {
   "cell_type": "code",
   "execution_count": 7,
   "id": "3078686d",
   "metadata": {},
   "outputs": [
    {
     "data": {
      "text/plain": [
       "array(['Kathmandu', 'Pokhara', 'Bhaktapur', 'Lalitpur', 'Chitwan',\n",
       "       'Dharan', 'Makwanpur', 'Nawalparasi', 'Others'], dtype=object)"
      ]
     },
     "execution_count": 7,
     "metadata": {},
     "output_type": "execute_result"
    }
   ],
   "source": [
    "df.City.unique()"
   ]
  },
  {
   "cell_type": "code",
   "execution_count": 8,
   "id": "e46fc358",
   "metadata": {},
   "outputs": [
    {
     "data": {
      "text/plain": [
       "array(['West', 'East', 'South East', 'North West', 'South', 'North',\n",
       "       'North East', 'South West'], dtype=object)"
      ]
     },
     "execution_count": 8,
     "metadata": {},
     "output_type": "execute_result"
    }
   ],
   "source": [
    "df.Face.unique()"
   ]
  },
  {
   "cell_type": "code",
   "execution_count": 9,
   "id": "827d6d0b",
   "metadata": {},
   "outputs": [
    {
     "data": {
      "text/plain": [
       "array([2073., 2071., 2065., 2075., 2074., 2076., 2056., 2070., 2069.,\n",
       "       2018., 2067., 2068., 2077., 2017., 2019., 2000., 2015., 2020.,\n",
       "       2072., 2016., 2066., 2014., 2050., 2001., 2064., 2010., 2005.,\n",
       "       2060., 2049., 2009., 2011., 2012., 2007., 2042., 2025., 2059.,\n",
       "       2058., 2013., 2006., 2063., 2003.])"
      ]
     },
     "execution_count": 9,
     "metadata": {},
     "output_type": "execute_result"
    }
   ],
   "source": [
    "df.Year.unique()"
   ]
  },
  {
   "cell_type": "code",
   "execution_count": 10,
   "id": "4dcd8bdd",
   "metadata": {},
   "outputs": [
    {
     "data": {
      "text/plain": [
       "array([' Blacktopped', ' Concrete', ' Paved', ' Gravelled', 'None',\n",
       "       ' Soil Stabilized', ' Alley'], dtype=object)"
      ]
     },
     "execution_count": 10,
     "metadata": {},
     "output_type": "execute_result"
    }
   ],
   "source": [
    "df['Road Type'].unique()"
   ]
  },
  {
   "cell_type": "code",
   "execution_count": 11,
   "id": "fcab0ad0",
   "metadata": {},
   "outputs": [],
   "source": [
    "df[\"Road Type\"] = df[\"Road Type\"].str.strip()\n",
    "df = df.rename(columns={\"Road Type\": \"Road_Type\"})\n",
    "df = df.rename(columns={\"Build Area\": \"Build_Area\"})\n",
    "df = df.rename(columns={\"Road Width\": \"Road_Width\"})"
   ]
  },
  {
   "cell_type": "code",
   "execution_count": 12,
   "id": "c223d09c",
   "metadata": {},
   "outputs": [
    {
     "data": {
      "text/plain": [
       "array(['Blacktopped', 'Concrete', 'Paved', 'Gravelled', 'None',\n",
       "       'Soil Stabilized', 'Alley'], dtype=object)"
      ]
     },
     "execution_count": 12,
     "metadata": {},
     "output_type": "execute_result"
    }
   ],
   "source": [
    "df['Road_Type'].unique()"
   ]
  },
  {
   "cell_type": "code",
   "execution_count": 13,
   "id": "21f0b7ff",
   "metadata": {},
   "outputs": [
    {
     "data": {
      "text/html": [
       "<div>\n",
       "<style scoped>\n",
       "    .dataframe tbody tr th:only-of-type {\n",
       "        vertical-align: middle;\n",
       "    }\n",
       "\n",
       "    .dataframe tbody tr th {\n",
       "        vertical-align: top;\n",
       "    }\n",
       "\n",
       "    .dataframe thead th {\n",
       "        text-align: right;\n",
       "    }\n",
       "</style>\n",
       "<table border=\"1\" class=\"dataframe\">\n",
       "  <thead>\n",
       "    <tr style=\"text-align: right;\">\n",
       "      <th></th>\n",
       "      <th>Address</th>\n",
       "      <th>City</th>\n",
       "      <th>Price</th>\n",
       "      <th>Bedroom</th>\n",
       "      <th>Bathroom</th>\n",
       "      <th>Floors</th>\n",
       "      <th>Parking</th>\n",
       "      <th>Face</th>\n",
       "      <th>Year</th>\n",
       "      <th>Area</th>\n",
       "      <th>Road_Width</th>\n",
       "      <th>Road_Type</th>\n",
       "      <th>Build_Area</th>\n",
       "      <th>Amenities</th>\n",
       "    </tr>\n",
       "  </thead>\n",
       "  <tbody>\n",
       "    <tr>\n",
       "      <th>0</th>\n",
       "      <td>Budhanilkantha</td>\n",
       "      <td>Kathmandu</td>\n",
       "      <td>90000000</td>\n",
       "      <td>6</td>\n",
       "      <td>3</td>\n",
       "      <td>2.0</td>\n",
       "      <td>10</td>\n",
       "      <td>West</td>\n",
       "      <td>2073.0</td>\n",
       "      <td>5476.000</td>\n",
       "      <td>20.0</td>\n",
       "      <td>Blacktopped</td>\n",
       "      <td>98568.000</td>\n",
       "      <td>16</td>\n",
       "    </tr>\n",
       "    <tr>\n",
       "      <th>1</th>\n",
       "      <td>Budhanilkantha</td>\n",
       "      <td>Kathmandu</td>\n",
       "      <td>80000000</td>\n",
       "      <td>5</td>\n",
       "      <td>3</td>\n",
       "      <td>2.0</td>\n",
       "      <td>9</td>\n",
       "      <td>East</td>\n",
       "      <td>2073.0</td>\n",
       "      <td>7187.250</td>\n",
       "      <td>20.0</td>\n",
       "      <td>Blacktopped</td>\n",
       "      <td>7187.250</td>\n",
       "      <td>15</td>\n",
       "    </tr>\n",
       "    <tr>\n",
       "      <th>2</th>\n",
       "      <td>Dhapasi</td>\n",
       "      <td>Kathmandu</td>\n",
       "      <td>70000000</td>\n",
       "      <td>5</td>\n",
       "      <td>3</td>\n",
       "      <td>2.0</td>\n",
       "      <td>12</td>\n",
       "      <td>East</td>\n",
       "      <td>2071.0</td>\n",
       "      <td>5818.250</td>\n",
       "      <td>20.0</td>\n",
       "      <td>Blacktopped</td>\n",
       "      <td>55102.250</td>\n",
       "      <td>16</td>\n",
       "    </tr>\n",
       "    <tr>\n",
       "      <th>3</th>\n",
       "      <td>Budhanilkantha</td>\n",
       "      <td>Kathmandu</td>\n",
       "      <td>50000000</td>\n",
       "      <td>5</td>\n",
       "      <td>4</td>\n",
       "      <td>2.0</td>\n",
       "      <td>9</td>\n",
       "      <td>East</td>\n",
       "      <td>2073.0</td>\n",
       "      <td>20963.000</td>\n",
       "      <td>20.0</td>\n",
       "      <td>Blacktopped</td>\n",
       "      <td>20963.000</td>\n",
       "      <td>16</td>\n",
       "    </tr>\n",
       "    <tr>\n",
       "      <th>4</th>\n",
       "      <td>Other</td>\n",
       "      <td>Kathmandu</td>\n",
       "      <td>32500000</td>\n",
       "      <td>6</td>\n",
       "      <td>4</td>\n",
       "      <td>2.5</td>\n",
       "      <td>1</td>\n",
       "      <td>South East</td>\n",
       "      <td>2065.0</td>\n",
       "      <td>1369.000</td>\n",
       "      <td>12.0</td>\n",
       "      <td>Concrete</td>\n",
       "      <td>819346.500</td>\n",
       "      <td>13</td>\n",
       "    </tr>\n",
       "    <tr>\n",
       "      <th>...</th>\n",
       "      <td>...</td>\n",
       "      <td>...</td>\n",
       "      <td>...</td>\n",
       "      <td>...</td>\n",
       "      <td>...</td>\n",
       "      <td>...</td>\n",
       "      <td>...</td>\n",
       "      <td>...</td>\n",
       "      <td>...</td>\n",
       "      <td>...</td>\n",
       "      <td>...</td>\n",
       "      <td>...</td>\n",
       "      <td>...</td>\n",
       "      <td>...</td>\n",
       "    </tr>\n",
       "    <tr>\n",
       "      <th>1602</th>\n",
       "      <td>Other</td>\n",
       "      <td>Others</td>\n",
       "      <td>6400000</td>\n",
       "      <td>3</td>\n",
       "      <td>1</td>\n",
       "      <td>1.0</td>\n",
       "      <td>0</td>\n",
       "      <td>North</td>\n",
       "      <td>2074.0</td>\n",
       "      <td>133.350</td>\n",
       "      <td>15.0</td>\n",
       "      <td>Soil Stabilized</td>\n",
       "      <td>133.350</td>\n",
       "      <td>4</td>\n",
       "    </tr>\n",
       "    <tr>\n",
       "      <th>1603</th>\n",
       "      <td>Other</td>\n",
       "      <td>Others</td>\n",
       "      <td>2200000</td>\n",
       "      <td>0</td>\n",
       "      <td>0</td>\n",
       "      <td>3.0</td>\n",
       "      <td>0</td>\n",
       "      <td>North</td>\n",
       "      <td>2074.0</td>\n",
       "      <td>23137.000</td>\n",
       "      <td>20.0</td>\n",
       "      <td>Gravelled</td>\n",
       "      <td>23137.000</td>\n",
       "      <td>0</td>\n",
       "    </tr>\n",
       "    <tr>\n",
       "      <th>1604</th>\n",
       "      <td>Other</td>\n",
       "      <td>Others</td>\n",
       "      <td>25000000</td>\n",
       "      <td>10</td>\n",
       "      <td>4</td>\n",
       "      <td>3.0</td>\n",
       "      <td>0</td>\n",
       "      <td>East</td>\n",
       "      <td>2074.0</td>\n",
       "      <td>155.575</td>\n",
       "      <td>20.0</td>\n",
       "      <td>Gravelled</td>\n",
       "      <td>155.575</td>\n",
       "      <td>6</td>\n",
       "    </tr>\n",
       "    <tr>\n",
       "      <th>1605</th>\n",
       "      <td>Other</td>\n",
       "      <td>Others</td>\n",
       "      <td>10000000</td>\n",
       "      <td>0</td>\n",
       "      <td>0</td>\n",
       "      <td>3.0</td>\n",
       "      <td>0</td>\n",
       "      <td>East</td>\n",
       "      <td>2074.0</td>\n",
       "      <td>21305.250</td>\n",
       "      <td>25.0</td>\n",
       "      <td>None</td>\n",
       "      <td>21305.250</td>\n",
       "      <td>0</td>\n",
       "    </tr>\n",
       "    <tr>\n",
       "      <th>1606</th>\n",
       "      <td>Other</td>\n",
       "      <td>Others</td>\n",
       "      <td>350000</td>\n",
       "      <td>0</td>\n",
       "      <td>0</td>\n",
       "      <td>3.0</td>\n",
       "      <td>0</td>\n",
       "      <td>North</td>\n",
       "      <td>2074.0</td>\n",
       "      <td>5476.000</td>\n",
       "      <td>16.0</td>\n",
       "      <td>None</td>\n",
       "      <td>5476.000</td>\n",
       "      <td>0</td>\n",
       "    </tr>\n",
       "  </tbody>\n",
       "</table>\n",
       "<p>1607 rows × 14 columns</p>\n",
       "</div>"
      ],
      "text/plain": [
       "             Address       City     Price  Bedroom  Bathroom  Floors  Parking  \\\n",
       "0     Budhanilkantha  Kathmandu  90000000        6         3     2.0       10   \n",
       "1     Budhanilkantha  Kathmandu  80000000        5         3     2.0        9   \n",
       "2            Dhapasi  Kathmandu  70000000        5         3     2.0       12   \n",
       "3     Budhanilkantha  Kathmandu  50000000        5         4     2.0        9   \n",
       "4              Other  Kathmandu  32500000        6         4     2.5        1   \n",
       "...              ...        ...       ...      ...       ...     ...      ...   \n",
       "1602           Other     Others   6400000        3         1     1.0        0   \n",
       "1603           Other     Others   2200000        0         0     3.0        0   \n",
       "1604           Other     Others  25000000       10         4     3.0        0   \n",
       "1605           Other     Others  10000000        0         0     3.0        0   \n",
       "1606           Other     Others    350000        0         0     3.0        0   \n",
       "\n",
       "            Face    Year       Area  Road_Width        Road_Type  Build_Area  \\\n",
       "0           West  2073.0   5476.000        20.0      Blacktopped   98568.000   \n",
       "1           East  2073.0   7187.250        20.0      Blacktopped    7187.250   \n",
       "2           East  2071.0   5818.250        20.0      Blacktopped   55102.250   \n",
       "3           East  2073.0  20963.000        20.0      Blacktopped   20963.000   \n",
       "4     South East  2065.0   1369.000        12.0         Concrete  819346.500   \n",
       "...          ...     ...        ...         ...              ...         ...   \n",
       "1602       North  2074.0    133.350        15.0  Soil Stabilized     133.350   \n",
       "1603       North  2074.0  23137.000        20.0        Gravelled   23137.000   \n",
       "1604        East  2074.0    155.575        20.0        Gravelled     155.575   \n",
       "1605        East  2074.0  21305.250        25.0             None   21305.250   \n",
       "1606       North  2074.0   5476.000        16.0             None    5476.000   \n",
       "\n",
       "      Amenities  \n",
       "0            16  \n",
       "1            15  \n",
       "2            16  \n",
       "3            16  \n",
       "4            13  \n",
       "...         ...  \n",
       "1602          4  \n",
       "1603          0  \n",
       "1604          6  \n",
       "1605          0  \n",
       "1606          0  \n",
       "\n",
       "[1607 rows x 14 columns]"
      ]
     },
     "execution_count": 13,
     "metadata": {},
     "output_type": "execute_result"
    }
   ],
   "source": [
    "df"
   ]
  },
  {
   "cell_type": "code",
   "execution_count": 14,
   "id": "40b3e538",
   "metadata": {},
   "outputs": [
    {
     "data": {
      "text/plain": [
       "0    90000000\n",
       "1    80000000\n",
       "2    70000000\n",
       "Name: Price, dtype: int64"
      ]
     },
     "execution_count": 14,
     "metadata": {},
     "output_type": "execute_result"
    }
   ],
   "source": [
    "y = df.Price\n",
    "y.head(3)"
   ]
  },
  {
   "cell_type": "code",
   "execution_count": 15,
   "id": "6319af80",
   "metadata": {},
   "outputs": [
    {
     "data": {
      "text/html": [
       "<div>\n",
       "<style scoped>\n",
       "    .dataframe tbody tr th:only-of-type {\n",
       "        vertical-align: middle;\n",
       "    }\n",
       "\n",
       "    .dataframe tbody tr th {\n",
       "        vertical-align: top;\n",
       "    }\n",
       "\n",
       "    .dataframe thead th {\n",
       "        text-align: right;\n",
       "    }\n",
       "</style>\n",
       "<table border=\"1\" class=\"dataframe\">\n",
       "  <thead>\n",
       "    <tr style=\"text-align: right;\">\n",
       "      <th></th>\n",
       "      <th>Address</th>\n",
       "      <th>City</th>\n",
       "      <th>Bedroom</th>\n",
       "      <th>Bathroom</th>\n",
       "      <th>Floors</th>\n",
       "      <th>Parking</th>\n",
       "      <th>Face</th>\n",
       "      <th>Year</th>\n",
       "      <th>Area</th>\n",
       "      <th>Road_Width</th>\n",
       "      <th>Road_Type</th>\n",
       "      <th>Build_Area</th>\n",
       "      <th>Amenities</th>\n",
       "    </tr>\n",
       "  </thead>\n",
       "  <tbody>\n",
       "    <tr>\n",
       "      <th>0</th>\n",
       "      <td>Budhanilkantha</td>\n",
       "      <td>Kathmandu</td>\n",
       "      <td>6</td>\n",
       "      <td>3</td>\n",
       "      <td>2.0</td>\n",
       "      <td>10</td>\n",
       "      <td>West</td>\n",
       "      <td>2073.0</td>\n",
       "      <td>5476.00</td>\n",
       "      <td>20.0</td>\n",
       "      <td>Blacktopped</td>\n",
       "      <td>98568.00</td>\n",
       "      <td>16</td>\n",
       "    </tr>\n",
       "    <tr>\n",
       "      <th>1</th>\n",
       "      <td>Budhanilkantha</td>\n",
       "      <td>Kathmandu</td>\n",
       "      <td>5</td>\n",
       "      <td>3</td>\n",
       "      <td>2.0</td>\n",
       "      <td>9</td>\n",
       "      <td>East</td>\n",
       "      <td>2073.0</td>\n",
       "      <td>7187.25</td>\n",
       "      <td>20.0</td>\n",
       "      <td>Blacktopped</td>\n",
       "      <td>7187.25</td>\n",
       "      <td>15</td>\n",
       "    </tr>\n",
       "    <tr>\n",
       "      <th>2</th>\n",
       "      <td>Dhapasi</td>\n",
       "      <td>Kathmandu</td>\n",
       "      <td>5</td>\n",
       "      <td>3</td>\n",
       "      <td>2.0</td>\n",
       "      <td>12</td>\n",
       "      <td>East</td>\n",
       "      <td>2071.0</td>\n",
       "      <td>5818.25</td>\n",
       "      <td>20.0</td>\n",
       "      <td>Blacktopped</td>\n",
       "      <td>55102.25</td>\n",
       "      <td>16</td>\n",
       "    </tr>\n",
       "  </tbody>\n",
       "</table>\n",
       "</div>"
      ],
      "text/plain": [
       "          Address       City  Bedroom  Bathroom  Floors  Parking  Face  \\\n",
       "0  Budhanilkantha  Kathmandu        6         3     2.0       10  West   \n",
       "1  Budhanilkantha  Kathmandu        5         3     2.0        9  East   \n",
       "2         Dhapasi  Kathmandu        5         3     2.0       12  East   \n",
       "\n",
       "     Year     Area  Road_Width    Road_Type  Build_Area  Amenities  \n",
       "0  2073.0  5476.00        20.0  Blacktopped    98568.00         16  \n",
       "1  2073.0  7187.25        20.0  Blacktopped     7187.25         15  \n",
       "2  2071.0  5818.25        20.0  Blacktopped    55102.25         16  "
      ]
     },
     "execution_count": 15,
     "metadata": {},
     "output_type": "execute_result"
    }
   ],
   "source": [
    "X = df.drop(['Price'],axis='columns')\n",
    "X.head(3)"
   ]
  },
  {
   "cell_type": "code",
   "execution_count": 16,
   "id": "ff3a92ee",
   "metadata": {},
   "outputs": [
    {
     "name": "stdout",
     "output_type": "stream",
     "text": [
      "(1607, 13) (1607,)\n"
     ]
    }
   ],
   "source": [
    "print(X.shape, y.shape)"
   ]
  },
  {
   "cell_type": "code",
   "execution_count": 17,
   "id": "1df3e9e0",
   "metadata": {},
   "outputs": [
    {
     "data": {
      "text/plain": [
       "Address        object\n",
       "City           object\n",
       "Price           int64\n",
       "Bedroom         int64\n",
       "Bathroom        int64\n",
       "Floors        float64\n",
       "Parking         int64\n",
       "Face           object\n",
       "Year          float64\n",
       "Area          float64\n",
       "Road_Width    float64\n",
       "Road_Type      object\n",
       "Build_Area    float64\n",
       "Amenities       int64\n",
       "dtype: object"
      ]
     },
     "execution_count": 17,
     "metadata": {},
     "output_type": "execute_result"
    }
   ],
   "source": [
    "df.dtypes"
   ]
  },
  {
   "cell_type": "code",
   "execution_count": 18,
   "id": "218513bf",
   "metadata": {},
   "outputs": [],
   "source": [
    "# determine categorical and numerical features\n",
    "numerical_ix = X.select_dtypes(include=['int64', 'float64']).columns\n",
    "categorical_ix = X.select_dtypes(include=['object', 'bool']).columns"
   ]
  },
  {
   "cell_type": "code",
   "execution_count": 19,
   "id": "3c354e8c",
   "metadata": {},
   "outputs": [
    {
     "data": {
      "text/plain": [
       "Index(['Bedroom', 'Bathroom', 'Floors', 'Parking', 'Year', 'Area',\n",
       "       'Road_Width', 'Build_Area', 'Amenities'],\n",
       "      dtype='object')"
      ]
     },
     "execution_count": 19,
     "metadata": {},
     "output_type": "execute_result"
    }
   ],
   "source": [
    "numerical_ix"
   ]
  },
  {
   "cell_type": "code",
   "execution_count": 20,
   "id": "b45b17e6",
   "metadata": {},
   "outputs": [
    {
     "data": {
      "text/plain": [
       "Index(['Address', 'City', 'Face', 'Road_Type'], dtype='object')"
      ]
     },
     "execution_count": 20,
     "metadata": {},
     "output_type": "execute_result"
    }
   ],
   "source": [
    "categorical_ix"
   ]
  },
  {
   "cell_type": "code",
   "execution_count": 21,
   "id": "a9cf18f2",
   "metadata": {},
   "outputs": [
    {
     "data": {
      "text/plain": [
       "ColumnTransformer(transformers=[('cat', OneHotEncoder(handle_unknown='ignore'),\n",
       "                                 Index(['Address', 'City', 'Face', 'Road_Type'], dtype='object')),\n",
       "                                ('num', MinMaxScaler(),\n",
       "                                 Index(['Bedroom', 'Bathroom', 'Floors', 'Parking', 'Year', 'Area',\n",
       "       'Road_Width', 'Build_Area', 'Amenities'],\n",
       "      dtype='object'))])"
      ]
     },
     "execution_count": 21,
     "metadata": {},
     "output_type": "execute_result"
    }
   ],
   "source": [
    "from sklearn.preprocessing import OneHotEncoder\n",
    "from sklearn.preprocessing import MinMaxScaler\n",
    "from sklearn.compose import ColumnTransformer\n",
    "# define the data preparation for the columns\n",
    "t = [('cat', OneHotEncoder(handle_unknown = 'ignore'), categorical_ix), ('num', MinMaxScaler(), numerical_ix)]\n",
    "col_transform = ColumnTransformer(transformers=t)\n",
    "col_transform"
   ]
  },
  {
   "cell_type": "code",
   "execution_count": 22,
   "id": "cd2d0281",
   "metadata": {},
   "outputs": [],
   "source": [
    "from sklearn.ensemble import RandomForestRegressor\n",
    "# define the model\n",
    "# rf_model = RandomForestRegressor(bootstrap = True, max_depth= 10, max_features = 'auto',\n",
    "#  min_samples_leaf = 4,\n",
    "#  min_samples_split = 5,\n",
    "#  n_estimators = 200)\n",
    "rf_model = RandomForestRegressor(bootstrap = False, max_depth= None, max_features = 'sqrt',\n",
    " min_samples_leaf = 2,\n",
    " min_samples_split = 5,\n",
    " n_estimators = 1400)\n",
    "# rf_model = RandomForestRegressor(bootstrap = True, max_depth= None, max_features = 'auto',\n",
    "#  min_samples_leaf = 2,\n",
    "#  min_samples_split = 2,\n",
    "#  n_estimators = 1800)\n",
    "# define the data preparation and modeling pipeline\n",
    "from sklearn.pipeline import Pipeline\n",
    "pipeline = Pipeline(steps=[('prep',col_transform), ('m', rf_model)])"
   ]
  },
  {
   "cell_type": "code",
   "execution_count": 23,
   "id": "098c4bb3",
   "metadata": {},
   "outputs": [
    {
     "name": "stdout",
     "output_type": "stream",
     "text": [
      "MAE: 6102098.954 (620852.178)\n"
     ]
    }
   ],
   "source": [
    "from numpy import std\n",
    "from numpy import absolute\n",
    "from statistics import mean\n",
    "from sklearn.model_selection import KFold\n",
    "from sklearn.model_selection import cross_val_score\n",
    "# define the model cross-validation configuration\n",
    "cv = KFold(n_splits=10, shuffle=True, random_state=1)\n",
    "# evaluate the pipeline using cross validation and calculate MAE\n",
    "scores = cross_val_score(pipeline, X, y, scoring='neg_mean_absolute_error', cv=cv,\n",
    "n_jobs=-1)\n",
    "# convert MAE scores to positive values\n",
    "scores = absolute(scores)\n",
    "# summarize the model performance\n",
    "print('MAE: %.3f (%.3f)' % (mean(scores), std(scores)))"
   ]
  },
  {
   "cell_type": "code",
   "execution_count": 24,
   "id": "df0c29ee",
   "metadata": {},
   "outputs": [],
   "source": [
    "from sklearn.model_selection import train_test_split\n",
    "X_train, X_test, y_train, y_test = train_test_split(X,y,test_size=0.2,random_state=10)"
   ]
  },
  {
   "cell_type": "code",
   "execution_count": 25,
   "id": "ae83cc52",
   "metadata": {},
   "outputs": [
    {
     "data": {
      "text/plain": [
       "(1285, 13)"
      ]
     },
     "execution_count": 25,
     "metadata": {},
     "output_type": "execute_result"
    }
   ],
   "source": [
    "X_train.shape"
   ]
  },
  {
   "cell_type": "code",
   "execution_count": 26,
   "id": "d9ca09ca",
   "metadata": {},
   "outputs": [
    {
     "data": {
      "text/html": [
       "<div>\n",
       "<style scoped>\n",
       "    .dataframe tbody tr th:only-of-type {\n",
       "        vertical-align: middle;\n",
       "    }\n",
       "\n",
       "    .dataframe tbody tr th {\n",
       "        vertical-align: top;\n",
       "    }\n",
       "\n",
       "    .dataframe thead th {\n",
       "        text-align: right;\n",
       "    }\n",
       "</style>\n",
       "<table border=\"1\" class=\"dataframe\">\n",
       "  <thead>\n",
       "    <tr style=\"text-align: right;\">\n",
       "      <th></th>\n",
       "      <th>Address</th>\n",
       "      <th>City</th>\n",
       "      <th>Bedroom</th>\n",
       "      <th>Bathroom</th>\n",
       "      <th>Floors</th>\n",
       "      <th>Parking</th>\n",
       "      <th>Face</th>\n",
       "      <th>Year</th>\n",
       "      <th>Area</th>\n",
       "      <th>Road_Width</th>\n",
       "      <th>Road_Type</th>\n",
       "      <th>Build_Area</th>\n",
       "      <th>Amenities</th>\n",
       "    </tr>\n",
       "  </thead>\n",
       "  <tbody>\n",
       "    <tr>\n",
       "      <th>989</th>\n",
       "      <td>Samakhusi</td>\n",
       "      <td>Kathmandu</td>\n",
       "      <td>0</td>\n",
       "      <td>0</td>\n",
       "      <td>3.0</td>\n",
       "      <td>0</td>\n",
       "      <td>West</td>\n",
       "      <td>2074.0</td>\n",
       "      <td>2053.500</td>\n",
       "      <td>10.0</td>\n",
       "      <td>Gravelled</td>\n",
       "      <td>2053.500</td>\n",
       "      <td>0</td>\n",
       "    </tr>\n",
       "    <tr>\n",
       "      <th>1564</th>\n",
       "      <td>Other</td>\n",
       "      <td>Others</td>\n",
       "      <td>0</td>\n",
       "      <td>0</td>\n",
       "      <td>0.0</td>\n",
       "      <td>0</td>\n",
       "      <td>South</td>\n",
       "      <td>2074.0</td>\n",
       "      <td>4920.000</td>\n",
       "      <td>32.0</td>\n",
       "      <td>Blacktopped</td>\n",
       "      <td>4920.000</td>\n",
       "      <td>0</td>\n",
       "    </tr>\n",
       "    <tr>\n",
       "      <th>935</th>\n",
       "      <td>Other</td>\n",
       "      <td>Kathmandu</td>\n",
       "      <td>0</td>\n",
       "      <td>0</td>\n",
       "      <td>3.0</td>\n",
       "      <td>0</td>\n",
       "      <td>North</td>\n",
       "      <td>2074.0</td>\n",
       "      <td>2395.750</td>\n",
       "      <td>20.0</td>\n",
       "      <td>None</td>\n",
       "      <td>2395.750</td>\n",
       "      <td>0</td>\n",
       "    </tr>\n",
       "    <tr>\n",
       "      <th>1129</th>\n",
       "      <td>Other</td>\n",
       "      <td>Kathmandu</td>\n",
       "      <td>0</td>\n",
       "      <td>0</td>\n",
       "      <td>3.0</td>\n",
       "      <td>0</td>\n",
       "      <td>East</td>\n",
       "      <td>2074.0</td>\n",
       "      <td>6383.000</td>\n",
       "      <td>16.0</td>\n",
       "      <td>None</td>\n",
       "      <td>6383.000</td>\n",
       "      <td>0</td>\n",
       "    </tr>\n",
       "    <tr>\n",
       "      <th>723</th>\n",
       "      <td>Budhanilkantha</td>\n",
       "      <td>Kathmandu</td>\n",
       "      <td>0</td>\n",
       "      <td>0</td>\n",
       "      <td>3.0</td>\n",
       "      <td>0</td>\n",
       "      <td>North</td>\n",
       "      <td>2074.0</td>\n",
       "      <td>4791.500</td>\n",
       "      <td>13.0</td>\n",
       "      <td>Soil Stabilized</td>\n",
       "      <td>4791.500</td>\n",
       "      <td>0</td>\n",
       "    </tr>\n",
       "    <tr>\n",
       "      <th>...</th>\n",
       "      <td>...</td>\n",
       "      <td>...</td>\n",
       "      <td>...</td>\n",
       "      <td>...</td>\n",
       "      <td>...</td>\n",
       "      <td>...</td>\n",
       "      <td>...</td>\n",
       "      <td>...</td>\n",
       "      <td>...</td>\n",
       "      <td>...</td>\n",
       "      <td>...</td>\n",
       "      <td>...</td>\n",
       "      <td>...</td>\n",
       "    </tr>\n",
       "    <tr>\n",
       "      <th>1393</th>\n",
       "      <td>Imadol</td>\n",
       "      <td>Lalitpur</td>\n",
       "      <td>2</td>\n",
       "      <td>1</td>\n",
       "      <td>1.0</td>\n",
       "      <td>0</td>\n",
       "      <td>East</td>\n",
       "      <td>2074.0</td>\n",
       "      <td>11964.750</td>\n",
       "      <td>13.0</td>\n",
       "      <td>Gravelled</td>\n",
       "      <td>11964.750</td>\n",
       "      <td>0</td>\n",
       "    </tr>\n",
       "    <tr>\n",
       "      <th>1344</th>\n",
       "      <td>Bhaisepati</td>\n",
       "      <td>Lalitpur</td>\n",
       "      <td>0</td>\n",
       "      <td>0</td>\n",
       "      <td>3.0</td>\n",
       "      <td>0</td>\n",
       "      <td>North East</td>\n",
       "      <td>2074.0</td>\n",
       "      <td>9343.500</td>\n",
       "      <td>16.0</td>\n",
       "      <td>Blacktopped</td>\n",
       "      <td>9343.500</td>\n",
       "      <td>3</td>\n",
       "    </tr>\n",
       "    <tr>\n",
       "      <th>527</th>\n",
       "      <td>Other</td>\n",
       "      <td>Kathmandu</td>\n",
       "      <td>5</td>\n",
       "      <td>6</td>\n",
       "      <td>3.0</td>\n",
       "      <td>3</td>\n",
       "      <td>East</td>\n",
       "      <td>2076.0</td>\n",
       "      <td>2224.625</td>\n",
       "      <td>15.0</td>\n",
       "      <td>Blacktopped</td>\n",
       "      <td>2224.625</td>\n",
       "      <td>10</td>\n",
       "    </tr>\n",
       "    <tr>\n",
       "      <th>1149</th>\n",
       "      <td>Other</td>\n",
       "      <td>Pokhara</td>\n",
       "      <td>0</td>\n",
       "      <td>0</td>\n",
       "      <td>3.0</td>\n",
       "      <td>0</td>\n",
       "      <td>South West</td>\n",
       "      <td>2074.0</td>\n",
       "      <td>7187.250</td>\n",
       "      <td>30.0</td>\n",
       "      <td>Blacktopped</td>\n",
       "      <td>7187.250</td>\n",
       "      <td>0</td>\n",
       "    </tr>\n",
       "    <tr>\n",
       "      <th>1289</th>\n",
       "      <td>Imadol</td>\n",
       "      <td>Lalitpur</td>\n",
       "      <td>2</td>\n",
       "      <td>1</td>\n",
       "      <td>1.5</td>\n",
       "      <td>1</td>\n",
       "      <td>West</td>\n",
       "      <td>2076.0</td>\n",
       "      <td>1026.750</td>\n",
       "      <td>13.0</td>\n",
       "      <td>Gravelled</td>\n",
       "      <td>1026.750</td>\n",
       "      <td>8</td>\n",
       "    </tr>\n",
       "  </tbody>\n",
       "</table>\n",
       "<p>1285 rows × 13 columns</p>\n",
       "</div>"
      ],
      "text/plain": [
       "             Address       City  Bedroom  Bathroom  Floors  Parking  \\\n",
       "989        Samakhusi  Kathmandu        0         0     3.0        0   \n",
       "1564           Other     Others        0         0     0.0        0   \n",
       "935            Other  Kathmandu        0         0     3.0        0   \n",
       "1129           Other  Kathmandu        0         0     3.0        0   \n",
       "723   Budhanilkantha  Kathmandu        0         0     3.0        0   \n",
       "...              ...        ...      ...       ...     ...      ...   \n",
       "1393          Imadol   Lalitpur        2         1     1.0        0   \n",
       "1344      Bhaisepati   Lalitpur        0         0     3.0        0   \n",
       "527            Other  Kathmandu        5         6     3.0        3   \n",
       "1149           Other    Pokhara        0         0     3.0        0   \n",
       "1289          Imadol   Lalitpur        2         1     1.5        1   \n",
       "\n",
       "            Face    Year       Area  Road_Width        Road_Type  Build_Area  \\\n",
       "989         West  2074.0   2053.500        10.0        Gravelled    2053.500   \n",
       "1564       South  2074.0   4920.000        32.0      Blacktopped    4920.000   \n",
       "935        North  2074.0   2395.750        20.0             None    2395.750   \n",
       "1129        East  2074.0   6383.000        16.0             None    6383.000   \n",
       "723        North  2074.0   4791.500        13.0  Soil Stabilized    4791.500   \n",
       "...          ...     ...        ...         ...              ...         ...   \n",
       "1393        East  2074.0  11964.750        13.0        Gravelled   11964.750   \n",
       "1344  North East  2074.0   9343.500        16.0      Blacktopped    9343.500   \n",
       "527         East  2076.0   2224.625        15.0      Blacktopped    2224.625   \n",
       "1149  South West  2074.0   7187.250        30.0      Blacktopped    7187.250   \n",
       "1289        West  2076.0   1026.750        13.0        Gravelled    1026.750   \n",
       "\n",
       "      Amenities  \n",
       "989           0  \n",
       "1564          0  \n",
       "935           0  \n",
       "1129          0  \n",
       "723           0  \n",
       "...         ...  \n",
       "1393          0  \n",
       "1344          3  \n",
       "527          10  \n",
       "1149          0  \n",
       "1289          8  \n",
       "\n",
       "[1285 rows x 13 columns]"
      ]
     },
     "execution_count": 26,
     "metadata": {},
     "output_type": "execute_result"
    }
   ],
   "source": [
    "X_train"
   ]
  },
  {
   "cell_type": "code",
   "execution_count": 27,
   "id": "f7bb7cdc",
   "metadata": {},
   "outputs": [
    {
     "data": {
      "text/plain": [
       "Pipeline(steps=[('prep',\n",
       "                 ColumnTransformer(transformers=[('cat',\n",
       "                                                  OneHotEncoder(handle_unknown='ignore'),\n",
       "                                                  Index(['Address', 'City', 'Face', 'Road_Type'], dtype='object')),\n",
       "                                                 ('num', MinMaxScaler(),\n",
       "                                                  Index(['Bedroom', 'Bathroom', 'Floors', 'Parking', 'Year', 'Area',\n",
       "       'Road_Width', 'Build_Area', 'Amenities'],\n",
       "      dtype='object'))])),\n",
       "                ('m',\n",
       "                 RandomForestRegressor(bootstrap=False, max_features='sqrt',\n",
       "                                       min_samples_leaf=2, min_samples_split=5,\n",
       "                                       n_estimators=1400))])"
      ]
     },
     "execution_count": 27,
     "metadata": {},
     "output_type": "execute_result"
    }
   ],
   "source": [
    "pipeline.fit(X_train,y_train)\n",
    "# pipeline.fit(X,y)\n",
    "pipeline"
   ]
  },
  {
   "cell_type": "code",
   "execution_count": 28,
   "id": "1dd32fd4",
   "metadata": {},
   "outputs": [
    {
     "name": "stdout",
     "output_type": "stream",
     "text": [
      "Training accuracy: 0.9166902650124765\n"
     ]
    }
   ],
   "source": [
    "print(\"Training accuracy:\" ,pipeline.score(X_train,y_train))"
   ]
  },
  {
   "cell_type": "code",
   "execution_count": 29,
   "id": "1964b18f",
   "metadata": {},
   "outputs": [],
   "source": [
    "prediction = pipeline.predict(X_test)"
   ]
  },
  {
   "cell_type": "code",
   "execution_count": 30,
   "id": "84163a63",
   "metadata": {},
   "outputs": [
    {
     "name": "stdout",
     "output_type": "stream",
     "text": [
      "MAE 5570224.751107378\n",
      "RMSE 7609936.343500632\n",
      "R2 score(COD) 0.8033714138917623\n"
     ]
    }
   ],
   "source": [
    "from sklearn.metrics import mean_absolute_error, mean_squared_error\n",
    "from sklearn.metrics import r2_score\n",
    "print(\"MAE\",mean_absolute_error(y_test,prediction))\n",
    "print(\"RMSE\",np.sqrt(mean_squared_error(y_test,prediction)))\n",
    "r2 = r2_score(y_test,prediction)\n",
    "print(\"R2 score(COD)\",r2)"
   ]
  },
  {
   "cell_type": "code",
   "execution_count": 31,
   "id": "3d29b532",
   "metadata": {},
   "outputs": [],
   "source": [
    "from sklearn.ensemble import GradientBoostingRegressor\n",
    "# Fit the Gradient Boosting Regressor with the best parameters\n",
    "best_gb = GradientBoostingRegressor(learning_rate=0.039122914019804195,\n",
    "                                max_depth=5,\n",
    "                                max_features='log2',\n",
    "                                min_samples_leaf=2,\n",
    "                                min_samples_split=5,\n",
    "                                n_estimators=575)\n",
    "pipeline2 = Pipeline(steps=[('prep',col_transform), ('m', best_gb)])"
   ]
  },
  {
   "cell_type": "code",
   "execution_count": 32,
   "id": "d05a92a5",
   "metadata": {},
   "outputs": [
    {
     "data": {
      "text/plain": [
       "Pipeline(steps=[('prep',\n",
       "                 ColumnTransformer(transformers=[('cat',\n",
       "                                                  OneHotEncoder(handle_unknown='ignore'),\n",
       "                                                  Index(['Address', 'City', 'Face', 'Road_Type'], dtype='object')),\n",
       "                                                 ('num', MinMaxScaler(),\n",
       "                                                  Index(['Bedroom', 'Bathroom', 'Floors', 'Parking', 'Year', 'Area',\n",
       "       'Road_Width', 'Build_Area', 'Amenities'],\n",
       "      dtype='object'))])),\n",
       "                ('m',\n",
       "                 GradientBoostingRegressor(learning_rate=0.039122914019804195,\n",
       "                                           max_depth=5, max_features='log2',\n",
       "                                           min_samples_leaf=2,\n",
       "                                           min_samples_split=5,\n",
       "                                           n_estimators=575))])"
      ]
     },
     "execution_count": 32,
     "metadata": {},
     "output_type": "execute_result"
    }
   ],
   "source": [
    "pipeline2.fit(X_train,y_train)\n",
    "pipeline2"
   ]
  },
  {
   "cell_type": "code",
   "execution_count": 33,
   "id": "5db87f42",
   "metadata": {},
   "outputs": [
    {
     "name": "stdout",
     "output_type": "stream",
     "text": [
      "Training accuracy: 0.9002092838115453\n"
     ]
    }
   ],
   "source": [
    "print(\"Training accuracy:\" ,pipeline2.score(X_train,y_train))"
   ]
  },
  {
   "cell_type": "code",
   "execution_count": 34,
   "id": "e5be014b",
   "metadata": {},
   "outputs": [],
   "source": [
    "prediction = pipeline2.predict(X_test)"
   ]
  },
  {
   "cell_type": "code",
   "execution_count": 35,
   "id": "c064901f",
   "metadata": {},
   "outputs": [
    {
     "name": "stdout",
     "output_type": "stream",
     "text": [
      "MSE 58853171889075.23\n",
      "MAE 5741032.187346999\n",
      "RMSE 7671582.098177352\n",
      "RMSLE 15.85303342302132\n",
      "R2 score(COD) 0.8001728554371716\n"
     ]
    }
   ],
   "source": [
    "from sklearn.metrics import mean_squared_error\n",
    "mse = mean_squared_error(y_test, prediction)\n",
    "# rmse = mse**.5\n",
    "print(\"MSE\", mse)\n",
    "from sklearn.metrics import mean_absolute_error\n",
    "print(\"MAE\",mean_absolute_error(y_test,prediction))\n",
    "print(\"RMSE\",np.sqrt(mean_squared_error(y_test,prediction)))\n",
    "print(\"RMSLE\",np.log(np.sqrt(mean_squared_error(y_test,prediction))))\n",
    "from sklearn.metrics import r2_score\n",
    "r2 = r2_score(y_test,prediction)\n",
    "print(\"R2 score(COD)\",r2)"
   ]
  },
  {
   "cell_type": "code",
   "execution_count": 36,
   "id": "b6cd731d",
   "metadata": {},
   "outputs": [],
   "source": [
    "# import pickle\n",
    "# pickle.dump(pipeline, open('pipeline.pkl', 'wb'))"
   ]
  },
  {
   "cell_type": "code",
   "execution_count": 37,
   "id": "2a8972a6",
   "metadata": {},
   "outputs": [
    {
     "name": "stdout",
     "output_type": "stream",
     "text": [
      "count       1607.00\n",
      "mean    18712699.85\n",
      "std     18394937.35\n",
      "min        80000.00\n",
      "25%      2850000.00\n",
      "50%     15000000.00\n",
      "75%     28500000.00\n",
      "max     96000000.00\n",
      "Name: Price, dtype: float64\n"
     ]
    }
   ],
   "source": [
    "pd.options.display.float_format = '{:.2f}'.format\n",
    "print(df.Price.describe())"
   ]
  },
  {
   "cell_type": "code",
   "execution_count": 38,
   "id": "2bdef3f5",
   "metadata": {},
   "outputs": [
    {
     "name": "stdout",
     "output_type": "stream",
     "text": [
      "count       1607.00\n",
      "mean    18712699.85\n",
      "std     18394937.35\n",
      "min        80000.00\n",
      "25%      2850000.00\n",
      "50%     15000000.00\n",
      "75%     28500000.00\n",
      "max     96000000.00\n",
      "Name: Price, dtype: float64\n"
     ]
    }
   ],
   "source": [
    "print(df.Price.describe())"
   ]
  },
  {
   "cell_type": "code",
   "execution_count": null,
   "id": "511402ad",
   "metadata": {},
   "outputs": [],
   "source": []
  }
 ],
 "metadata": {
  "kernelspec": {
   "display_name": "Python 3 (ipykernel)",
   "language": "python",
   "name": "python3"
  },
  "language_info": {
   "codemirror_mode": {
    "name": "ipython",
    "version": 3
   },
   "file_extension": ".py",
   "mimetype": "text/x-python",
   "name": "python",
   "nbconvert_exporter": "python",
   "pygments_lexer": "ipython3",
   "version": "3.9.12"
  }
 },
 "nbformat": 4,
 "nbformat_minor": 5
}
